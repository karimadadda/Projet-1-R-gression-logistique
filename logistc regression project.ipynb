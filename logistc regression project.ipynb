{
 "cells": [
  {
   "cell_type": "markdown",
   "id": "7d1f89fc",
   "metadata": {},
   "source": [
    "# Importation des bibliothèques\n"
   ]
  },
  {
   "cell_type": "raw",
   "id": "d421867f",
   "metadata": {},
   "source": [
    "Nous allons commencer par charger les bibliothèques nécessaires à la création d'un modèle de régression logistique.\n",
    "Pandas\n",
    "numpy\n",
    "Matplotlib\n",
    "Seaborn\n",
    "Scikit-learn (sklearn):\n",
    "LogisticRegression: Modèle de classification\n",
    "StratifiedShuffleSplit: utilisé pour diviser le jeu de données en trains et ensembles de tests, particulièrement bon pour les données déséquilibrées.\n",
    "confusion_matrix : la visualisation de la performance d’un algorithme.\n",
    "accuracy_score : cette fonction calcule la précision du modèle"
   ]
  },
  {
   "cell_type": "code",
   "execution_count": 1,
   "id": "99deaf2f",
   "metadata": {},
   "outputs": [],
   "source": [
    "import pandas as pd\n",
    "import numpy as np\n",
    "import matplotlib.pyplot as plt\n",
    "import seaborn as sns\n",
    "import seaborn as sn\n",
    "\n",
    "import statsmodels.api as sm\n",
    "import scipy.stats as st\n",
    "from matplotlib import rcParams\n",
    "from matplotlib.pyplot import matshow\n",
    "import sklearn\n",
    "from sklearn import pipeline\n",
    "from sklearn.linear_model import LogisticRegression"
   ]
  },
  {
   "cell_type": "markdown",
   "id": "0db4c76d",
   "metadata": {},
   "source": [
    "# Exploration des données"
   ]
  },
  {
   "cell_type": "raw",
   "id": "afda03d7",
   "metadata": {},
   "source": [
    "Source :\n",
    "Le jeu de données est disponible publiquement sur le site Kaggle, et il provient d'une étude cardiovasculaire en cours sur les résidents de la ville de Framingham, Massachusetts. L'objectif de la classification est de prédire si le patient a un risque à 10 ans de maladie coronarienne future (CHD).Le jeu de données fournit les informations sur les patients. \n"
   ]
  },
  {
   "cell_type": "code",
   "execution_count": 2,
   "id": "28e8e5d7",
   "metadata": {},
   "outputs": [
    {
     "data": {
      "text/html": [
       "<div>\n",
       "<style scoped>\n",
       "    .dataframe tbody tr th:only-of-type {\n",
       "        vertical-align: middle;\n",
       "    }\n",
       "\n",
       "    .dataframe tbody tr th {\n",
       "        vertical-align: top;\n",
       "    }\n",
       "\n",
       "    .dataframe thead th {\n",
       "        text-align: right;\n",
       "    }\n",
       "</style>\n",
       "<table border=\"1\" class=\"dataframe\">\n",
       "  <thead>\n",
       "    <tr style=\"text-align: right;\">\n",
       "      <th></th>\n",
       "      <th>male</th>\n",
       "      <th>age</th>\n",
       "      <th>education</th>\n",
       "      <th>currentSmoker</th>\n",
       "      <th>cigsPerDay</th>\n",
       "      <th>BPMeds</th>\n",
       "      <th>prevalentStroke</th>\n",
       "      <th>prevalentHyp</th>\n",
       "      <th>diabetes</th>\n",
       "      <th>totChol</th>\n",
       "      <th>sysBP</th>\n",
       "      <th>diaBP</th>\n",
       "      <th>BMI</th>\n",
       "      <th>heartRate</th>\n",
       "      <th>glucose</th>\n",
       "      <th>TenYearCHD</th>\n",
       "    </tr>\n",
       "  </thead>\n",
       "  <tbody>\n",
       "    <tr>\n",
       "      <th>0</th>\n",
       "      <td>1</td>\n",
       "      <td>39</td>\n",
       "      <td>4.0</td>\n",
       "      <td>0</td>\n",
       "      <td>0.0</td>\n",
       "      <td>0.0</td>\n",
       "      <td>0</td>\n",
       "      <td>0</td>\n",
       "      <td>0</td>\n",
       "      <td>195.0</td>\n",
       "      <td>106.0</td>\n",
       "      <td>70.0</td>\n",
       "      <td>26.97</td>\n",
       "      <td>80.0</td>\n",
       "      <td>77.0</td>\n",
       "      <td>0</td>\n",
       "    </tr>\n",
       "    <tr>\n",
       "      <th>1</th>\n",
       "      <td>0</td>\n",
       "      <td>46</td>\n",
       "      <td>2.0</td>\n",
       "      <td>0</td>\n",
       "      <td>0.0</td>\n",
       "      <td>0.0</td>\n",
       "      <td>0</td>\n",
       "      <td>0</td>\n",
       "      <td>0</td>\n",
       "      <td>250.0</td>\n",
       "      <td>121.0</td>\n",
       "      <td>81.0</td>\n",
       "      <td>28.73</td>\n",
       "      <td>95.0</td>\n",
       "      <td>76.0</td>\n",
       "      <td>0</td>\n",
       "    </tr>\n",
       "    <tr>\n",
       "      <th>2</th>\n",
       "      <td>1</td>\n",
       "      <td>48</td>\n",
       "      <td>1.0</td>\n",
       "      <td>1</td>\n",
       "      <td>20.0</td>\n",
       "      <td>0.0</td>\n",
       "      <td>0</td>\n",
       "      <td>0</td>\n",
       "      <td>0</td>\n",
       "      <td>245.0</td>\n",
       "      <td>127.5</td>\n",
       "      <td>80.0</td>\n",
       "      <td>25.34</td>\n",
       "      <td>75.0</td>\n",
       "      <td>70.0</td>\n",
       "      <td>0</td>\n",
       "    </tr>\n",
       "    <tr>\n",
       "      <th>3</th>\n",
       "      <td>0</td>\n",
       "      <td>61</td>\n",
       "      <td>3.0</td>\n",
       "      <td>1</td>\n",
       "      <td>30.0</td>\n",
       "      <td>0.0</td>\n",
       "      <td>0</td>\n",
       "      <td>1</td>\n",
       "      <td>0</td>\n",
       "      <td>225.0</td>\n",
       "      <td>150.0</td>\n",
       "      <td>95.0</td>\n",
       "      <td>28.58</td>\n",
       "      <td>65.0</td>\n",
       "      <td>103.0</td>\n",
       "      <td>1</td>\n",
       "    </tr>\n",
       "    <tr>\n",
       "      <th>4</th>\n",
       "      <td>0</td>\n",
       "      <td>46</td>\n",
       "      <td>3.0</td>\n",
       "      <td>1</td>\n",
       "      <td>23.0</td>\n",
       "      <td>0.0</td>\n",
       "      <td>0</td>\n",
       "      <td>0</td>\n",
       "      <td>0</td>\n",
       "      <td>285.0</td>\n",
       "      <td>130.0</td>\n",
       "      <td>84.0</td>\n",
       "      <td>23.10</td>\n",
       "      <td>85.0</td>\n",
       "      <td>85.0</td>\n",
       "      <td>0</td>\n",
       "    </tr>\n",
       "    <tr>\n",
       "      <th>...</th>\n",
       "      <td>...</td>\n",
       "      <td>...</td>\n",
       "      <td>...</td>\n",
       "      <td>...</td>\n",
       "      <td>...</td>\n",
       "      <td>...</td>\n",
       "      <td>...</td>\n",
       "      <td>...</td>\n",
       "      <td>...</td>\n",
       "      <td>...</td>\n",
       "      <td>...</td>\n",
       "      <td>...</td>\n",
       "      <td>...</td>\n",
       "      <td>...</td>\n",
       "      <td>...</td>\n",
       "      <td>...</td>\n",
       "    </tr>\n",
       "    <tr>\n",
       "      <th>4235</th>\n",
       "      <td>0</td>\n",
       "      <td>48</td>\n",
       "      <td>2.0</td>\n",
       "      <td>1</td>\n",
       "      <td>20.0</td>\n",
       "      <td>NaN</td>\n",
       "      <td>0</td>\n",
       "      <td>0</td>\n",
       "      <td>0</td>\n",
       "      <td>248.0</td>\n",
       "      <td>131.0</td>\n",
       "      <td>72.0</td>\n",
       "      <td>22.00</td>\n",
       "      <td>84.0</td>\n",
       "      <td>86.0</td>\n",
       "      <td>0</td>\n",
       "    </tr>\n",
       "    <tr>\n",
       "      <th>4236</th>\n",
       "      <td>0</td>\n",
       "      <td>44</td>\n",
       "      <td>1.0</td>\n",
       "      <td>1</td>\n",
       "      <td>15.0</td>\n",
       "      <td>0.0</td>\n",
       "      <td>0</td>\n",
       "      <td>0</td>\n",
       "      <td>0</td>\n",
       "      <td>210.0</td>\n",
       "      <td>126.5</td>\n",
       "      <td>87.0</td>\n",
       "      <td>19.16</td>\n",
       "      <td>86.0</td>\n",
       "      <td>NaN</td>\n",
       "      <td>0</td>\n",
       "    </tr>\n",
       "    <tr>\n",
       "      <th>4237</th>\n",
       "      <td>0</td>\n",
       "      <td>52</td>\n",
       "      <td>2.0</td>\n",
       "      <td>0</td>\n",
       "      <td>0.0</td>\n",
       "      <td>0.0</td>\n",
       "      <td>0</td>\n",
       "      <td>0</td>\n",
       "      <td>0</td>\n",
       "      <td>269.0</td>\n",
       "      <td>133.5</td>\n",
       "      <td>83.0</td>\n",
       "      <td>21.47</td>\n",
       "      <td>80.0</td>\n",
       "      <td>107.0</td>\n",
       "      <td>0</td>\n",
       "    </tr>\n",
       "    <tr>\n",
       "      <th>4238</th>\n",
       "      <td>1</td>\n",
       "      <td>40</td>\n",
       "      <td>3.0</td>\n",
       "      <td>0</td>\n",
       "      <td>0.0</td>\n",
       "      <td>0.0</td>\n",
       "      <td>0</td>\n",
       "      <td>1</td>\n",
       "      <td>0</td>\n",
       "      <td>185.0</td>\n",
       "      <td>141.0</td>\n",
       "      <td>98.0</td>\n",
       "      <td>25.60</td>\n",
       "      <td>67.0</td>\n",
       "      <td>72.0</td>\n",
       "      <td>0</td>\n",
       "    </tr>\n",
       "    <tr>\n",
       "      <th>4239</th>\n",
       "      <td>0</td>\n",
       "      <td>39</td>\n",
       "      <td>3.0</td>\n",
       "      <td>1</td>\n",
       "      <td>30.0</td>\n",
       "      <td>0.0</td>\n",
       "      <td>0</td>\n",
       "      <td>0</td>\n",
       "      <td>0</td>\n",
       "      <td>196.0</td>\n",
       "      <td>133.0</td>\n",
       "      <td>86.0</td>\n",
       "      <td>20.91</td>\n",
       "      <td>85.0</td>\n",
       "      <td>80.0</td>\n",
       "      <td>0</td>\n",
       "    </tr>\n",
       "  </tbody>\n",
       "</table>\n",
       "<p>4240 rows × 16 columns</p>\n",
       "</div>"
      ],
      "text/plain": [
       "      male  age  education  currentSmoker  cigsPerDay  BPMeds  \\\n",
       "0        1   39        4.0              0         0.0     0.0   \n",
       "1        0   46        2.0              0         0.0     0.0   \n",
       "2        1   48        1.0              1        20.0     0.0   \n",
       "3        0   61        3.0              1        30.0     0.0   \n",
       "4        0   46        3.0              1        23.0     0.0   \n",
       "...    ...  ...        ...            ...         ...     ...   \n",
       "4235     0   48        2.0              1        20.0     NaN   \n",
       "4236     0   44        1.0              1        15.0     0.0   \n",
       "4237     0   52        2.0              0         0.0     0.0   \n",
       "4238     1   40        3.0              0         0.0     0.0   \n",
       "4239     0   39        3.0              1        30.0     0.0   \n",
       "\n",
       "      prevalentStroke  prevalentHyp  diabetes  totChol  sysBP  diaBP    BMI  \\\n",
       "0                   0             0         0    195.0  106.0   70.0  26.97   \n",
       "1                   0             0         0    250.0  121.0   81.0  28.73   \n",
       "2                   0             0         0    245.0  127.5   80.0  25.34   \n",
       "3                   0             1         0    225.0  150.0   95.0  28.58   \n",
       "4                   0             0         0    285.0  130.0   84.0  23.10   \n",
       "...               ...           ...       ...      ...    ...    ...    ...   \n",
       "4235                0             0         0    248.0  131.0   72.0  22.00   \n",
       "4236                0             0         0    210.0  126.5   87.0  19.16   \n",
       "4237                0             0         0    269.0  133.5   83.0  21.47   \n",
       "4238                0             1         0    185.0  141.0   98.0  25.60   \n",
       "4239                0             0         0    196.0  133.0   86.0  20.91   \n",
       "\n",
       "      heartRate  glucose  TenYearCHD  \n",
       "0          80.0     77.0           0  \n",
       "1          95.0     76.0           0  \n",
       "2          75.0     70.0           0  \n",
       "3          65.0    103.0           1  \n",
       "4          85.0     85.0           0  \n",
       "...         ...      ...         ...  \n",
       "4235       84.0     86.0           0  \n",
       "4236       86.0      NaN           0  \n",
       "4237       80.0    107.0           0  \n",
       "4238       67.0     72.0           0  \n",
       "4239       85.0     80.0           0  \n",
       "\n",
       "[4240 rows x 16 columns]"
      ]
     },
     "execution_count": 2,
     "metadata": {},
     "output_type": "execute_result"
    }
   ],
   "source": [
    "data_frame = pd.read_csv('framingham.csv')\n",
    "heart = pd.DataFrame(data_frame)\n",
    "heart_pre=pd.DataFrame(data_frame)\n",
    "heart\n"
   ]
  },
  {
   "cell_type": "raw",
   "id": "e3d14924",
   "metadata": {},
   "source": [
    "Le jeu de données contient plus de 4240 lignes et 16 colonnes. \n",
    "Le jeu de données contient des colonnes numériques et catégorielles. \n",
    "Notre objectif est de créer un modèle pour prédire la valeur de la colonne TenYearCHD. \n",
    "Vérifions les types de données et les valeurs manquantes dans les différentes colonnes"
   ]
  },
  {
   "cell_type": "code",
   "execution_count": 3,
   "id": "0c021ba3",
   "metadata": {},
   "outputs": [
    {
     "name": "stdout",
     "output_type": "stream",
     "text": [
      "<class 'pandas.core.frame.DataFrame'>\n",
      "RangeIndex: 4240 entries, 0 to 4239\n",
      "Data columns (total 16 columns):\n",
      " #   Column           Non-Null Count  Dtype  \n",
      "---  ------           --------------  -----  \n",
      " 0   male             4240 non-null   int64  \n",
      " 1   age              4240 non-null   int64  \n",
      " 2   education        4135 non-null   float64\n",
      " 3   currentSmoker    4240 non-null   int64  \n",
      " 4   cigsPerDay       4211 non-null   float64\n",
      " 5   BPMeds           4187 non-null   float64\n",
      " 6   prevalentStroke  4240 non-null   int64  \n",
      " 7   prevalentHyp     4240 non-null   int64  \n",
      " 8   diabetes         4240 non-null   int64  \n",
      " 9   totChol          4190 non-null   float64\n",
      " 10  sysBP            4240 non-null   float64\n",
      " 11  diaBP            4240 non-null   float64\n",
      " 12  BMI              4221 non-null   float64\n",
      " 13  heartRate        4239 non-null   float64\n",
      " 14  glucose          3852 non-null   float64\n",
      " 15  TenYearCHD       4240 non-null   int64  \n",
      "dtypes: float64(9), int64(7)\n",
      "memory usage: 530.1 KB\n"
     ]
    }
   ],
   "source": [
    "heart.info ()"
   ]
  },
  {
   "cell_type": "raw",
   "id": "ee8dbb27",
   "metadata": {},
   "source": [
    "# Vue d’ensemble des types de données, nombre de lignes(4238), nombre de colonnes(16)\n",
    "on voit bien qu'il existe des valeures manquantes dans les colonnes education, cigsPerDay, BPMeds, totChol, BMI, heartRate et glucose.\n",
    "Bien que nous devions être en mesure de compléter les valeurs manquantes pour la plupart des colonnes, il pourrait être judicieux d'écarter les lignes où la valeur manquante afin de simplifier notre analyse et notre modélisation ."
   ]
  },
  {
   "cell_type": "code",
   "execution_count": 4,
   "id": "3af40536",
   "metadata": {},
   "outputs": [
    {
     "data": {
      "text/plain": [
       "male                 0\n",
       "age                  0\n",
       "education          105\n",
       "currentSmoker        0\n",
       "cigsPerDay          29\n",
       "BPMeds              53\n",
       "prevalentStroke      0\n",
       "prevalentHyp         0\n",
       "diabetes             0\n",
       "totChol             50\n",
       "sysBP                0\n",
       "diaBP                0\n",
       "BMI                 19\n",
       "heartRate            1\n",
       "glucose            388\n",
       "TenYearCHD           0\n",
       "dtype: int64"
      ]
     },
     "execution_count": 4,
     "metadata": {},
     "output_type": "execute_result"
    }
   ],
   "source": [
    "heart.isnull().sum()"
   ]
  },
  {
   "cell_type": "raw",
   "id": "92ba98eb",
   "metadata": {},
   "source": [
    "Les données relatives à l'éducation ne sont pas pertinentes pour la maladie cardiaque d'un individu, elles sont donc abandonnées."
   ]
  },
  {
   "cell_type": "markdown",
   "id": "dd2cd197",
   "metadata": {},
   "source": [
    "# Préparation des données "
   ]
  },
  {
   "cell_type": "markdown",
   "id": "ac16f8d0",
   "metadata": {},
   "source": [
    "### Suppression des données manquantes"
   ]
  },
  {
   "cell_type": "code",
   "execution_count": 5,
   "id": "f7fdfc22",
   "metadata": {},
   "outputs": [],
   "source": [
    "heart.drop(['education'], axis = 1, inplace = True) "
   ]
  },
  {
   "cell_type": "code",
   "execution_count": 6,
   "id": "1979fc90",
   "metadata": {},
   "outputs": [],
   "source": [
    "count=0\n",
    "for i in heart.isnull().sum(axis=1):\n",
    "    if i>0:\n",
    "        count=count+1\n",
    "heart.dropna(axis=0,inplace=True)"
   ]
  },
  {
   "cell_type": "code",
   "execution_count": 7,
   "id": "44874be0",
   "metadata": {},
   "outputs": [
    {
     "name": "stdout",
     "output_type": "stream",
     "text": [
      "0    3179\n",
      "1     572\n",
      "Name: TenYearCHD, dtype: int64\n"
     ]
    },
    {
     "data": {
      "image/png": "[encoded data removed]",
      "text/plain": [
       "<Figure size 432x288 with 1 Axes>"
      ]
     },
     "metadata": {
      "needs_background": "light"
     },
     "output_type": "display_data"
    }
   ],
   "source": [
    "plt.bar(heart.TenYearCHD.unique(), heart.TenYearCHD.value_counts(), color = ['blue', 'violet'])\n",
    "plt.xticks([0, 1])\n",
    "plt.xlabel('Target Classes')\n",
    "plt.ylabel('Count')\n",
    "plt.title('Count of each Target Class')\n",
    "print(heart.TenYearCHD.value_counts())"
   ]
  },
  {
   "cell_type": "raw",
   "id": "66b70440",
   "metadata": {},
   "source": [
    "Il y a plus de 3000 personne sans maladie cardiaque et 572 patients présentant un risque de maladie cardiaque."
   ]
  },
  {
   "cell_type": "markdown",
   "id": "e9f2a581",
   "metadata": {},
   "source": [
    "# histogramme"
   ]
  },
  {
   "cell_type": "code",
   "execution_count": 8,
   "id": "d192bc33",
   "metadata": {},
   "outputs": [
    {
     "data": {
      "image/png": "[encoded data removed]",
      "text/plain": [
       "<Figure size 1440x1440 with 15 Axes>"
      ]
     },
     "metadata": {
      "needs_background": "light"
     },
     "output_type": "display_data"
    }
   ],
   "source": [
    "def draw_histograms(dataframe, features, rows, cols):\n",
    "    fig=plt.figure(figsize=(20,20))\n",
    "    for i, feature in enumerate(features):\n",
    "        ax=fig.add_subplot(rows,cols,i+1)\n",
    "        dataframe[feature].hist(bins=20,ax=ax,facecolor='blue')\n",
    "        ax.set_title(feature+\" Distribution\",color='purple')\n",
    "        \n",
    "    fig.tight_layout()  \n",
    "    plt.show()\n",
    "draw_histograms(heart,heart.columns,6,3)"
   ]
  },
  {
   "cell_type": "markdown",
   "id": "3de22c5a",
   "metadata": {},
   "source": [
    "# Régression logistique"
   ]
  },
  {
   "cell_type": "code",
   "execution_count": 9,
   "id": "cc7c73d7",
   "metadata": {},
   "outputs": [
    {
     "data": {
      "text/html": [
       "<div>\n",
       "<style scoped>\n",
       "    .dataframe tbody tr th:only-of-type {\n",
       "        vertical-align: middle;\n",
       "    }\n",
       "\n",
       "    .dataframe tbody tr th {\n",
       "        vertical-align: top;\n",
       "    }\n",
       "\n",
       "    .dataframe thead th {\n",
       "        text-align: right;\n",
       "    }\n",
       "</style>\n",
       "<table border=\"1\" class=\"dataframe\">\n",
       "  <thead>\n",
       "    <tr style=\"text-align: right;\">\n",
       "      <th></th>\n",
       "      <th>const</th>\n",
       "      <th>male</th>\n",
       "      <th>age</th>\n",
       "      <th>currentSmoker</th>\n",
       "      <th>cigsPerDay</th>\n",
       "      <th>BPMeds</th>\n",
       "      <th>prevalentStroke</th>\n",
       "      <th>prevalentHyp</th>\n",
       "      <th>diabetes</th>\n",
       "      <th>totChol</th>\n",
       "      <th>sysBP</th>\n",
       "      <th>diaBP</th>\n",
       "      <th>BMI</th>\n",
       "      <th>heartRate</th>\n",
       "      <th>glucose</th>\n",
       "      <th>TenYearCHD</th>\n",
       "    </tr>\n",
       "  </thead>\n",
       "  <tbody>\n",
       "    <tr>\n",
       "      <th>0</th>\n",
       "      <td>1.0</td>\n",
       "      <td>1</td>\n",
       "      <td>39</td>\n",
       "      <td>0</td>\n",
       "      <td>0.0</td>\n",
       "      <td>0.0</td>\n",
       "      <td>0</td>\n",
       "      <td>0</td>\n",
       "      <td>0</td>\n",
       "      <td>195.0</td>\n",
       "      <td>106.0</td>\n",
       "      <td>70.0</td>\n",
       "      <td>26.97</td>\n",
       "      <td>80.0</td>\n",
       "      <td>77.0</td>\n",
       "      <td>0</td>\n",
       "    </tr>\n",
       "    <tr>\n",
       "      <th>1</th>\n",
       "      <td>1.0</td>\n",
       "      <td>0</td>\n",
       "      <td>46</td>\n",
       "      <td>0</td>\n",
       "      <td>0.0</td>\n",
       "      <td>0.0</td>\n",
       "      <td>0</td>\n",
       "      <td>0</td>\n",
       "      <td>0</td>\n",
       "      <td>250.0</td>\n",
       "      <td>121.0</td>\n",
       "      <td>81.0</td>\n",
       "      <td>28.73</td>\n",
       "      <td>95.0</td>\n",
       "      <td>76.0</td>\n",
       "      <td>0</td>\n",
       "    </tr>\n",
       "    <tr>\n",
       "      <th>2</th>\n",
       "      <td>1.0</td>\n",
       "      <td>1</td>\n",
       "      <td>48</td>\n",
       "      <td>1</td>\n",
       "      <td>20.0</td>\n",
       "      <td>0.0</td>\n",
       "      <td>0</td>\n",
       "      <td>0</td>\n",
       "      <td>0</td>\n",
       "      <td>245.0</td>\n",
       "      <td>127.5</td>\n",
       "      <td>80.0</td>\n",
       "      <td>25.34</td>\n",
       "      <td>75.0</td>\n",
       "      <td>70.0</td>\n",
       "      <td>0</td>\n",
       "    </tr>\n",
       "    <tr>\n",
       "      <th>3</th>\n",
       "      <td>1.0</td>\n",
       "      <td>0</td>\n",
       "      <td>61</td>\n",
       "      <td>1</td>\n",
       "      <td>30.0</td>\n",
       "      <td>0.0</td>\n",
       "      <td>0</td>\n",
       "      <td>1</td>\n",
       "      <td>0</td>\n",
       "      <td>225.0</td>\n",
       "      <td>150.0</td>\n",
       "      <td>95.0</td>\n",
       "      <td>28.58</td>\n",
       "      <td>65.0</td>\n",
       "      <td>103.0</td>\n",
       "      <td>1</td>\n",
       "    </tr>\n",
       "    <tr>\n",
       "      <th>4</th>\n",
       "      <td>1.0</td>\n",
       "      <td>0</td>\n",
       "      <td>46</td>\n",
       "      <td>1</td>\n",
       "      <td>23.0</td>\n",
       "      <td>0.0</td>\n",
       "      <td>0</td>\n",
       "      <td>0</td>\n",
       "      <td>0</td>\n",
       "      <td>285.0</td>\n",
       "      <td>130.0</td>\n",
       "      <td>84.0</td>\n",
       "      <td>23.10</td>\n",
       "      <td>85.0</td>\n",
       "      <td>85.0</td>\n",
       "      <td>0</td>\n",
       "    </tr>\n",
       "  </tbody>\n",
       "</table>\n",
       "</div>"
      ],
      "text/plain": [
       "   const  male  age  currentSmoker  cigsPerDay  BPMeds  prevalentStroke  \\\n",
       "0    1.0     1   39              0         0.0     0.0                0   \n",
       "1    1.0     0   46              0         0.0     0.0                0   \n",
       "2    1.0     1   48              1        20.0     0.0                0   \n",
       "3    1.0     0   61              1        30.0     0.0                0   \n",
       "4    1.0     0   46              1        23.0     0.0                0   \n",
       "\n",
       "   prevalentHyp  diabetes  totChol  sysBP  diaBP    BMI  heartRate  glucose  \\\n",
       "0             0         0    195.0  106.0   70.0  26.97       80.0     77.0   \n",
       "1             0         0    250.0  121.0   81.0  28.73       95.0     76.0   \n",
       "2             0         0    245.0  127.5   80.0  25.34       75.0     70.0   \n",
       "3             1         0    225.0  150.0   95.0  28.58       65.0    103.0   \n",
       "4             0         0    285.0  130.0   84.0  23.10       85.0     85.0   \n",
       "\n",
       "   TenYearCHD  \n",
       "0           0  \n",
       "1           0  \n",
       "2           0  \n",
       "3           1  \n",
       "4           0  "
      ]
     },
     "execution_count": 9,
     "metadata": {},
     "output_type": "execute_result"
    }
   ],
   "source": [
    "from statsmodels.tools import add_constant as add_constant\n",
    "heart_constant = add_constant(heart)\n",
    "heart_constant.head()"
   ]
  },
  {
   "cell_type": "raw",
   "id": "67149990",
   "metadata": {},
   "source": [
    "Pourquoi ajouter une colonne constante ?\n",
    "C'est parce que vous vous attendez à ce que votre variable dépendante prenne une valeur non nulle lorsque tous les autres régresseurs inclus sont mis à zéro.\n",
    "Supposons que vous souhaitiez modéliser le salaire en fonction des années d'études secondaires (en années). Vous estimez une équation de la forme suivante : yi=α+xiβ+εi\n",
    "parce que l'on peut raisonnablement s'attendre à ce que le salaire prenne, en moyenne, une valeur positive même si la scolarité secondaire est nulle. Cette valeur apparaîtrait comme une constante.\n",
    "\n",
    "Notez cependant qu'une constante peut prendre une valeur absurde tout en étant pertinente pour l'estimation, ou peut ne pas être pertinente du tout. Supposons en outre que vous souhaitiez estimer le modèle ci-dessus avec des variables représentant des écarts par rapport à leur moyenne.\n",
    "yi−y¯=(α−α¯)+(xi−x¯)β~+νi\n",
    "Évidemment, la constante est égale à sa valeur moyenne, de sorte que le premier terme du côté droit s'annule. On obtient\n",
    "yi−y¯=(xi−x¯)β~+νi\n",
    "c'est-à-dire un modèle sans constante. En pratique, l'inclusion d'une constante ne serait probablement pas un problème (pour une quantité raisonnable d'observations), mais serait théoriquement injustifiée.\n",
    "On doit toujours savoir si ce qu'on estime a du sens, tant d'un point de vue réel que statistique !"
   ]
  },
  {
   "cell_type": "markdown",
   "id": "4e34ed4f",
   "metadata": {},
   "source": [
    "# Feature Selection : Backward elemination (P-value approach)"
   ]
  },
  {
   "cell_type": "code",
   "execution_count": 10,
   "id": "8db20309",
   "metadata": {},
   "outputs": [
    {
     "data": {
      "text/html": [
       "<table class=\"simpletable\">\n",
       "<caption>Logit Regression Results</caption>\n",
       "<tr>\n",
       "  <th>Dep. Variable:</th>      <td>TenYearCHD</td>    <th>  No. Observations:  </th>  <td>  3751</td>  \n",
       "</tr>\n",
       "<tr>\n",
       "  <th>Model:</th>                 <td>Logit</td>      <th>  Df Residuals:      </th>  <td>  3744</td>  \n",
       "</tr>\n",
       "<tr>\n",
       "  <th>Method:</th>                 <td>MLE</td>       <th>  Df Model:          </th>  <td>     6</td>  \n",
       "</tr>\n",
       "<tr>\n",
       "  <th>Date:</th>            <td>Mon, 20 Dec 2021</td> <th>  Pseudo R-squ.:     </th>  <td>0.1149</td>  \n",
       "</tr>\n",
       "<tr>\n",
       "  <th>Time:</th>                <td>22:43:02</td>     <th>  Log-Likelihood:    </th> <td> -1417.7</td> \n",
       "</tr>\n",
       "<tr>\n",
       "  <th>converged:</th>             <td>True</td>       <th>  LL-Null:           </th> <td> -1601.7</td> \n",
       "</tr>\n",
       "<tr>\n",
       "  <th>Covariance Type:</th>     <td>nonrobust</td>    <th>  LLR p-value:       </th> <td>2.127e-76</td>\n",
       "</tr>\n",
       "</table>\n",
       "<table class=\"simpletable\">\n",
       "<tr>\n",
       "       <td></td>         <th>coef</th>     <th>std err</th>      <th>z</th>      <th>P>|z|</th>  <th>[0.025</th>    <th>0.975]</th>  \n",
       "</tr>\n",
       "<tr>\n",
       "  <th>const</th>      <td>   -9.1264</td> <td>    0.468</td> <td>  -19.504</td> <td> 0.000</td> <td>  -10.043</td> <td>   -8.209</td>\n",
       "</tr>\n",
       "<tr>\n",
       "  <th>male</th>       <td>    0.5815</td> <td>    0.105</td> <td>    5.524</td> <td> 0.000</td> <td>    0.375</td> <td>    0.788</td>\n",
       "</tr>\n",
       "<tr>\n",
       "  <th>age</th>        <td>    0.0655</td> <td>    0.006</td> <td>   10.343</td> <td> 0.000</td> <td>    0.053</td> <td>    0.078</td>\n",
       "</tr>\n",
       "<tr>\n",
       "  <th>cigsPerDay</th> <td>    0.0197</td> <td>    0.004</td> <td>    4.805</td> <td> 0.000</td> <td>    0.012</td> <td>    0.028</td>\n",
       "</tr>\n",
       "<tr>\n",
       "  <th>totChol</th>    <td>    0.0023</td> <td>    0.001</td> <td>    2.106</td> <td> 0.035</td> <td>    0.000</td> <td>    0.004</td>\n",
       "</tr>\n",
       "<tr>\n",
       "  <th>sysBP</th>      <td>    0.0174</td> <td>    0.002</td> <td>    8.162</td> <td> 0.000</td> <td>    0.013</td> <td>    0.022</td>\n",
       "</tr>\n",
       "<tr>\n",
       "  <th>glucose</th>    <td>    0.0076</td> <td>    0.002</td> <td>    4.574</td> <td> 0.000</td> <td>    0.004</td> <td>    0.011</td>\n",
       "</tr>\n",
       "</table>"
      ],
      "text/plain": [
       "<class 'statsmodels.iolib.summary.Summary'>\n",
       "\"\"\"\n",
       "                           Logit Regression Results                           \n",
       "==============================================================================\n",
       "Dep. Variable:             TenYearCHD   No. Observations:                 3751\n",
       "Model:                          Logit   Df Residuals:                     3744\n",
       "Method:                           MLE   Df Model:                            6\n",
       "Date:                Mon, 20 Dec 2021   Pseudo R-squ.:                  0.1149\n",
       "Time:                        22:43:02   Log-Likelihood:                -1417.7\n",
       "converged:                       True   LL-Null:                       -1601.7\n",
       "Covariance Type:            nonrobust   LLR p-value:                 2.127e-76\n",
       "==============================================================================\n",
       "                 coef    std err          z      P>|z|      [0.025      0.975]\n",
       "------------------------------------------------------------------------------\n",
       "const         -9.1264      0.468    -19.504      0.000     -10.043      -8.209\n",
       "male           0.5815      0.105      5.524      0.000       0.375       0.788\n",
       "age            0.0655      0.006     10.343      0.000       0.053       0.078\n",
       "cigsPerDay     0.0197      0.004      4.805      0.000       0.012       0.028\n",
       "totChol        0.0023      0.001      2.106      0.035       0.000       0.004\n",
       "sysBP          0.0174      0.002      8.162      0.000       0.013       0.022\n",
       "glucose        0.0076      0.002      4.574      0.000       0.004       0.011\n",
       "==============================================================================\n",
       "\"\"\""
      ]
     },
     "execution_count": 10,
     "metadata": {},
     "output_type": "execute_result"
    }
   ],
   "source": [
    "st.chisqprob = lambda chisq, df: st.chi2.sf(chisq, df)\n",
    "cols=heart_constant.columns[:-1]\n",
    "\n",
    "def back_feature_elem (data_frame,dep_var,col_list):\n",
    "   \n",
    "    while len(col_list)>0 :\n",
    "        model=sm.Logit(dep_var,data_frame[col_list])\n",
    "        result=model.fit(disp=0)\n",
    "        largest_pvalue=round(result.pvalues,3).nlargest(1)\n",
    "        if largest_pvalue[0]<(0.05):\n",
    "            return result\n",
    "            break\n",
    "        else:\n",
    "            col_list=col_list.drop(largest_pvalue.index)\n",
    "result=back_feature_elem(heart_constant,heart.TenYearCHD,cols)\n",
    "result.summary()"
   ]
  },
  {
   "cell_type": "raw",
   "id": "f0eb084d",
   "metadata": {},
   "source": [
    "L'approche Backward elimination est utilisée ici pour éliminer les attributs ayant la valeur P la plus élevée, un par un, puis en exécutant la régression à plusieurs reprises jusqu'à ce que tous les attributs aient des valeurs P inférieures à 0,05."
   ]
  },
  {
   "cell_type": "markdown",
   "id": "288a4a14",
   "metadata": {},
   "source": [
    "# Interprétation des résultats \n"
   ]
  },
  {
   "cell_type": "code",
   "execution_count": 11,
   "id": "cd8c760e",
   "metadata": {},
   "outputs": [
    {
     "name": "stdout",
     "output_type": "stream",
     "text": [
      "            CI 95%(2.5%)  CI 95%(97.5%)  Odds Ratio  pvalue\n",
      "const           0.000043       0.000272    0.000109   0.000\n",
      "male            1.455242       2.198536    1.788687   0.000\n",
      "age             1.054483       1.080969    1.067644   0.000\n",
      "cigsPerDay      1.011733       1.028128    1.019897   0.000\n",
      "totChol         1.000158       1.004394    1.002273   0.035\n",
      "sysBP           1.013292       1.021784    1.017529   0.000\n",
      "glucose         1.004346       1.010898    1.007617   0.000\n"
     ]
    }
   ],
   "source": [
    "params = np.exp(result.params)\n",
    "conf = np.exp(result.conf_int())\n",
    "conf['OR'] = params\n",
    "pvalue=round(result.pvalues,3)\n",
    "conf['pvalue']=pvalue\n",
    "conf.columns = ['CI 95%(2.5%)', 'CI 95%(97.5%)', 'Odds Ratio','pvalue']\n",
    "print ((conf))"
   ]
  },
  {
   "cell_type": "raw",
   "id": "8523a469",
   "metadata": {},
   "source": [
    "- Ce modèle ajusté montre que, toutes les autres caractéristiques étant constantes, la probabilité de recevoir un diagnostic de maladie cardiaque pour les hommes (male = 1) par rapport aux femmes (male = 0) est exp(0,5815) = 1,788687. \n",
    "En termes de variation en pourcentage, nous pouvons dire que la probabilité pour les hommes est supérieure de 78,8 % à celle des femmes.\n",
    "-Le coefficient de l'âge indique que, toutes les autres variables restant constantes, la probabilité d'être diagnostiqué avec une HDC augmente de 7% pour une augmentation d'un an de l'âge, puisque exp(0,0655) = 1,067644.\n",
    "-De même, chaque cigarette supplémentaire que l'on fume augmente de 2 % le risque de souffrir d'HDC.\n",
    "-Pour le taux de cholestérol total et le taux de glucose, il n'y a pas de changement significatif.\n",
    "-On constate une augmentation de 1,7 % des risques pour chaque unité d'augmentation de la pression artérielle systolique."
   ]
  },
  {
   "cell_type": "markdown",
   "id": "80bd34f9",
   "metadata": {},
   "source": [
    "# Splitting data to train and test split"
   ]
  },
  {
   "cell_type": "code",
   "execution_count": 12,
   "id": "beaa2393",
   "metadata": {},
   "outputs": [],
   "source": [
    "column_list=['age','male','cigsPerDay','totChol','sysBP','glucose','TenYearCHD']\n",
    "new_heart=heart[column_list]\n",
    "new_heart\n",
    "from sklearn.linear_model import LogisticRegression\n",
    "\n",
    "from sklearn.model_selection import cross_validate\n",
    "from sklearn.model_selection import train_test_split\n",
    "\n",
    "x=new_heart.iloc[:,:-1]\n",
    "y=new_heart.iloc[:,-1]\n",
    "x_train,x_test,y_train,y_test=train_test_split(x,y,test_size=0.2,random_state=42)\n",
    "logreg=LogisticRegression()\n",
    "logreg.fit(x_train,y_train)\n",
    "y_pred=logreg.predict(x_test)"
   ]
  },
  {
   "cell_type": "markdown",
   "id": "ce1663b2",
   "metadata": {},
   "source": [
    "# Model Evaluation\n",
    "Model accuracy"
   ]
  },
  {
   "cell_type": "code",
   "execution_count": 13,
   "id": "1b7542e2",
   "metadata": {},
   "outputs": [
    {
     "data": {
      "text/plain": [
       "0.8308921438082557"
      ]
     },
     "execution_count": 13,
     "metadata": {},
     "output_type": "execute_result"
    }
   ],
   "source": [
    "sklearn.metrics.accuracy_score(y_test,y_pred)"
   ]
  },
  {
   "cell_type": "raw",
   "id": "d4df6036",
   "metadata": {},
   "source": [
    "Score de classification de précision EST DE 0.83.\n",
    "Nous allons calculer la matrice de confusion pour évaluer la précision de cette classification."
   ]
  },
  {
   "cell_type": "markdown",
   "id": "88d50c15",
   "metadata": {},
   "source": [
    "# Confusion matrix"
   ]
  },
  {
   "cell_type": "code",
   "execution_count": 20,
   "id": "b7b76e37",
   "metadata": {},
   "outputs": [
    {
     "data": {
      "text/plain": [
       "array([[617,   5],\n",
       "       [122,   7]], dtype=int64)"
      ]
     },
     "execution_count": 20,
     "metadata": {},
     "output_type": "execute_result"
    }
   ],
   "source": [
    "from sklearn import metrics\n",
    "cnf_matrix = metrics.confusion_matrix(y_test, y_pred)\n",
    "cnf_matrix"
   ]
  },
  {
   "cell_type": "code",
   "execution_count": 21,
   "id": "24338bc8",
   "metadata": {},
   "outputs": [
    {
     "data": {
      "text/plain": [
       "<AxesSubplot:>"
      ]
     },
     "execution_count": 21,
     "metadata": {},
     "output_type": "execute_result"
    },
    {
     "data": {
      "image/png": "[encoded data removed]",
      "text/plain": [
       "<Figure size 576x360 with 2 Axes>"
      ]
     },
     "metadata": {
      "needs_background": "light"
     },
     "output_type": "display_data"
    }
   ],
   "source": [
    "from sklearn.metrics import confusion_matrix\n",
    "cm=confusion_matrix(y_test,y_pred)\n",
    "conf_matrix=pd.DataFrame(data=cm,columns=['Predicted:0','Predicted:1'],index=['Actual:0','Actual:1'])\n",
    "plt.figure(figsize = (8,5))\n",
    "sn.heatmap(conf_matrix, annot=True,fmt='d',cmap=\"YlGnBu\")"
   ]
  },
  {
   "cell_type": "raw",
   "id": "3b146cad",
   "metadata": {},
   "source": [
    "La matrice de confusion montre 617+7 = 624 prédictions correctes et 122+5= 127 prédictions incorrectes.\n",
    "\n",
    "Vrais positifs : 7\n",
    "\n",
    "Vrais négatifs : 617\n",
    "\n",
    "Faux positifs : 5 (erreur de type I)\n",
    "\n",
    "Faux négatifs : 122 (erreur de type II)\n",
    "\n",
    "La dimension de cette matrice est 2*2 car ce modèle est une classification binaire. Vous avez deux classes 0 et 1. Les valeurs diagonales représentent des prédictions précises, tandis que les éléments non diagonals sont des prédictions inexactes. Dans la sortie, 617 et 7 sont des prédictions réelles, et 122 et 5 sont des prédictions incorrectes."
   ]
  },
  {
   "cell_type": "code",
   "execution_count": 15,
   "id": "f15570ce",
   "metadata": {},
   "outputs": [],
   "source": [
    "TN=cm[0,0]\n",
    "TP=cm[1,1]\n",
    "FN=cm[1,0]\n",
    "FP=cm[0,1]\n",
    "sensitivity=TP/float(TP+FN)\n",
    "specificity=TN/float(TN+FP)"
   ]
  },
  {
   "cell_type": "code",
   "execution_count": 17,
   "id": "90fbc71d",
   "metadata": {},
   "outputs": [
    {
     "name": "stdout",
     "output_type": "stream",
     "text": [
      "Accuracy: 0.8308921438082557\n",
      "Precision: 0.5833333333333334\n",
      "Recall: 0.05426356589147287\n"
     ]
    }
   ],
   "source": [
    "print(\"Accuracy:\",metrics.accuracy_score(y_test, y_pred))\n",
    "print(\"Precision:\",metrics.precision_score(y_test, y_pred))\n",
    "print(\"Recall:\",metrics.recall_score(y_test, y_pred))"
   ]
  },
  {
   "cell_type": "raw",
   "id": "aac18d52",
   "metadata": {},
   "source": [
    "Nous avons obtenu un taux de classification de 83%, considéré comme une bonne précision.\n",
    "Précision : La précision consiste à être précis, c’est-à-dire à quel point votre modèle est précis. En d’autres termes, vous pouvez dire, lorsqu’un modèle fait une prédiction, à quelle fréquence elle est correcte. Dans votre cas de prédiction, lorsque votre modèle de régression logistique a prédit que les patients vont souffrir de maladie cardiaque, ces patients ont 58% du temps."
   ]
  },
  {
   "cell_type": "markdown",
   "id": "31098997",
   "metadata": {},
   "source": [
    "# Model Evaluation"
   ]
  },
  {
   "cell_type": "code",
   "execution_count": 34,
   "id": "c34086b0",
   "metadata": {},
   "outputs": [
    {
     "name": "stdout",
     "output_type": "stream",
     "text": [
      "La précision du modèle = TP+TN/(TP+TN+FP+FN) =  0.8308921438082557 \n",
      " La Missclassification = 1-Accuracy =  0.1691078561917443 \n",
      " Sensibilité ou taux de vrais positifs = TP/(TP+FN) =  0.05426356589147287 \n",
      " Spécificité ou taux de vrais négatifs = TN/(TN+FP) =  0.9919614147909968 \n",
      " Positive Valeur prédictive = TP/(TP+FP) =  0.5833333333333334 \n",
      " Negative  Value prédictive = TN/(TN+FN) =  0.8349120433017592 \n",
      " Rapport de vraisemblance positif = Sensitivity/(1-Specificity) =  6.750387596899199 \n",
      " Rapport de vraisemblance négatif = (1-Sensitivity)/Specificity =  0.9534004246604602\n"
     ]
    }
   ],
   "source": [
    " from matplotlib import rcParams\n",
    "from matplotlib.pyplot import matshow\n",
    "print('La précision du modèle = TP+TN/(TP+TN+FP+FN) = ',(TP+TN)/float(TP+TN+FP+FN),'\\n',\n",
    "\n",
    "'La Missclassification = 1-Accuracy = ',1-((TP+TN)/float(TP+TN+FP+FN)),'\\n',\n",
    "\n",
    "'Sensibilité ou taux de vrais positifs = TP/(TP+FN) = ',TP/float(TP+FN),'\\n',\n",
    "\n",
    "'Spécificité ou taux de vrais négatifs = TN/(TN+FP) = ',TN/float(TN+FP),'\\n',\n",
    "\n",
    "'Positive Valeur prédictive = TP/(TP+FP) = ',TP/float(TP+FP),'\\n',\n",
    "     \n",
    "'Negative  Value prédictive = TN/(TN+FN) = ',TN/float(TN+FN),'\\n',\n",
    "\n",
    "'Rapport de vraisemblance positif = Sensitivity/(1-Specificity) = ',sensitivity/(1-specificity),'\\n',\n",
    "\n",
    "'Rapport de vraisemblance négatif = (1-Sensitivity)/Specificity = ',(1-sensitivity)/specificity)"
   ]
  },
  {
   "cell_type": "raw",
   "id": "a77743c7",
   "metadata": {},
   "source": [
    "D'après les statistiques ci-dessus, il est clair que le modèle est plus spécifique que sensible. Les valeurs négatives sont prédites avec plus de précision que les valeurs positives."
   ]
  },
  {
   "cell_type": "markdown",
   "id": "9e700575",
   "metadata": {},
   "source": [
    "### Probabilités prédites de 0 (pas de maladie cardiaque) et de 1 (maladie cardiaque : oui) pour les données de test"
   ]
  },
  {
   "cell_type": "code",
   "execution_count": 35,
   "id": "f3e33892",
   "metadata": {},
   "outputs": [
    {
     "data": {
      "text/html": [
       "<div>\n",
       "<style scoped>\n",
       "    .dataframe tbody tr th:only-of-type {\n",
       "        vertical-align: middle;\n",
       "    }\n",
       "\n",
       "    .dataframe tbody tr th {\n",
       "        vertical-align: top;\n",
       "    }\n",
       "\n",
       "    .dataframe thead th {\n",
       "        text-align: right;\n",
       "    }\n",
       "</style>\n",
       "<table border=\"1\" class=\"dataframe\">\n",
       "  <thead>\n",
       "    <tr style=\"text-align: right;\">\n",
       "      <th></th>\n",
       "      <th>Prob pas de maladie cardiaque (0)</th>\n",
       "      <th>Prob maladie cardiaque (1)</th>\n",
       "    </tr>\n",
       "  </thead>\n",
       "  <tbody>\n",
       "    <tr>\n",
       "      <th>0</th>\n",
       "      <td>0.943568</td>\n",
       "      <td>0.056432</td>\n",
       "    </tr>\n",
       "    <tr>\n",
       "      <th>1</th>\n",
       "      <td>0.892028</td>\n",
       "      <td>0.107972</td>\n",
       "    </tr>\n",
       "    <tr>\n",
       "      <th>2</th>\n",
       "      <td>0.773869</td>\n",
       "      <td>0.226131</td>\n",
       "    </tr>\n",
       "    <tr>\n",
       "      <th>3</th>\n",
       "      <td>0.821790</td>\n",
       "      <td>0.178210</td>\n",
       "    </tr>\n",
       "    <tr>\n",
       "      <th>4</th>\n",
       "      <td>0.934912</td>\n",
       "      <td>0.065088</td>\n",
       "    </tr>\n",
       "  </tbody>\n",
       "</table>\n",
       "</div>"
      ],
      "text/plain": [
       "   Prob pas de maladie cardiaque (0)  Prob maladie cardiaque (1)\n",
       "0                           0.943568                    0.056432\n",
       "1                           0.892028                    0.107972\n",
       "2                           0.773869                    0.226131\n",
       "3                           0.821790                    0.178210\n",
       "4                           0.934912                    0.065088"
      ]
     },
     "execution_count": 35,
     "metadata": {},
     "output_type": "execute_result"
    }
   ],
   "source": [
    "y_pred_prob=logreg.predict_proba(x_test)[:,:]\n",
    "y_pred_prob_df=pd.DataFrame(data=y_pred_prob, columns=['Prob pas de maladie cardiaque (0)','Prob maladie cardiaque (1)'])\n",
    "y_pred_prob_df.head()"
   ]
  },
  {
   "cell_type": "markdown",
   "id": "a2c4d765",
   "metadata": {},
   "source": [
    "# ROC curve"
   ]
  },
  {
   "cell_type": "code",
   "execution_count": 26,
   "id": "36c87856",
   "metadata": {},
   "outputs": [
    {
     "data": {
      "image/png": "[encoded data removed]",
      "text/plain": [
       "<Figure size 432x288 with 1 Axes>"
      ]
     },
     "metadata": {
      "needs_background": "light"
     },
     "output_type": "display_data"
    }
   ],
   "source": [
    "from sklearn.metrics import roc_curve\n",
    "y_pred_prob_yes=logreg.predict_proba(x_test)\n",
    "fpr, tpr, thresholds = roc_curve(y_test, y_pred_prob_yes[:,1])\n",
    "plt.plot(fpr,tpr)\n",
    "plt.xlim([0.0, 1.0])\n",
    "plt.ylim([0.0, 1.0])\n",
    "plt.title('ROC curve for Heart disease classifier')\n",
    "plt.xlabel('Taux faux positive (1-Specificity)')\n",
    "plt.ylabel('Taux vrai positive (Sensitivity)')\n",
    "plt.grid(True)"
   ]
  },
  {
   "cell_type": "raw",
   "id": "a85eacec",
   "metadata": {},
   "source": [
    "# Une façon courante de visualiser les compromis de différents seuils est d'utiliser une courbe ROC, un graphique du taux de vrais positifs (# vrais positifs/nombre total de positifs) par rapport au taux de faux positifs (# faux positifs/nombre total de négatifs) pour tous les choix possibles de seuils. Un modèle avec une bonne précision de classification devrait avoir significativement plus de vrais positifs que de faux positifs à tous les seuils.\n",
    "\n",
    "La position optimale de la courbe ROC se situe dans le coin supérieur gauche, où la spécificité et la sensibilité sont optimales.\n",
    "La partie sous la courbe ROC quantifie la précision de classification du modèle ; plus l'aire est élevée, plus la disparité entre les vrais et les faux positifs est grande, et plus le modèle est performant dans la classification des membres de l'ensemble de données d'apprentissage. Une zone de 0,5 correspond à un modèle qui ne fait pas mieux que la classification aléatoire et un bon classificateur s'en éloigne le plus possible. Une zone de 1 est idéale. Plus l'AUC est proche de 1, mieux c'est.\n"
   ]
  },
  {
   "cell_type": "code",
   "execution_count": 38,
   "id": "cef3ba7e",
   "metadata": {},
   "outputs": [
    {
     "data": {
      "text/plain": [
       "0.7217153966948328"
      ]
     },
     "execution_count": 38,
     "metadata": {},
     "output_type": "execute_result"
    }
   ],
   "source": [
    "sklearn.metrics.roc_auc_score(y_test,y_pred_prob_yes[:,1])\n"
   ]
  },
  {
   "cell_type": "markdown",
   "id": "72d77002",
   "metadata": {},
   "source": [
    "# conclusion"
   ]
  },
  {
   "cell_type": "raw",
   "id": "00f60e46",
   "metadata": {},
   "source": [
    "Tous les attributs sélectionnés après le processus d’élimination affichent des valeurs de P inférieures à 5%, ce qui suggère que les attributs sélectionnés jouent un rôle important dans la prédiction de la maladie coronarienne (CHD).\n",
    "Les hommes semblent être plus sensibles aux maladies cardiaques que les femmes. \n",
    "L’augmentation de l’âge, le nombre de cigarettes fumées par jour et la pression artérielle systolique montrent également des chances croissantes d’avoir une maladie cardiaque.\n",
    "Le modèle a prédit avec une précision de 87,5%. Le modèle est plus spécifique que sensible.\n",
    "La surface sous la courbe ROC est de 72,1, ce qui est quelque peu satisfaisant.\n",
    "Le modèle global pourrait être amélioré avec plus de données."
   ]
  },
  {
   "cell_type": "code",
   "execution_count": null,
   "id": "c1421ba0",
   "metadata": {},
   "outputs": [],
   "source": []
  }
 ],
 "metadata": {
  "kernelspec": {
   "display_name": "Python 3",
   "language": "python",
   "name": "python3"
  },
  "language_info": {
   "codemirror_mode": {
    "name": "ipython",
    "version": 3
   },
   "file_extension": ".py",
   "mimetype": "text/x-python",
   "name": "python",
   "nbconvert_exporter": "python",
   "pygments_lexer": "ipython3",
   "version": "3.8.8"
  }
 },
 "nbformat": 4,
 "nbformat_minor": 5
}
